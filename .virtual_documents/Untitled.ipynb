import pandas as pd
import os

# 📁 엑셀 파일이 있는 폴더 경로
folder_path = "새 폴더"  # 실제 경로로 바꾸세요

# 📂 엑셀 파일 목록 수집
file_list = [f for f in os.listdir(folder_path) if f.endswith('.xlsx')]

# 🧹 파일 병합
merged_data = []

for file_name in file_list:
    file_path = os.path.join(folder_path, file_name)
    df = pd.read_excel(file_path, sheet_name=0)

    # '정산일자'가 있는 행 찾기
    start_idx = df[df.iloc[:, 0] == "정산일자"].index
    if len(start_idx) == 0:
        continue
    start_idx = start_idx[0]

    # 컬럼 지정 및 데이터 추출
    df.columns = df.iloc[start_idx]
    df = df.iloc[start_idx + 1:].reset_index(drop=True)

    # 필요한 열만 선택
    df["파일명"] = file_name
    df = df[["정산일자", "총 매출금액", "총 주문건수", "파일명"]]

    merged_data.append(df)

# 📊 전체 병합
final_df = pd.concat(merged_data, ignore_index=True)

# 💾 CSV 파일로 저장
final_df.to_csv("df.csv", index=False, encoding='utf-8-sig')



!pip install openpyxl



import matplotlib.pyplot as plt
import seaborn as sns
from matplotlib import rc
from matplotlib import font_manager as fm
plt.rc('font', family='Malgun')
sns.set(font="Malgun Gothic",
rc={"axes.unicode_minus":False}, # 마이너스 부호 깨짐 현상 해결
style='darkgrid')


import sys
!{sys.executable} -m pip install openpyxl


import pandas as pd
import numpy as np


df = pd.read_csv("df.csv")
df.head()


df.drop(columns= ["파일명"], inplace=True)
df


df = df[df["정산일자"] != "합계"]
df = df[df['총 주문건수'] != 0]
df.head()


# 정산일자를 datetime 타입으로 변환
df['정산일자'] = pd.to_datetime(df['정산일자'], format='%y-%m-%d')

# 연, 월, 일 컬럼 추가
df['년'] = df['정산일자'].dt.year
df['월'] = df['정산일자'].dt.month
df['일'] = df['정산일자'].dt.day



# 정산일자가 datetime 형식이어야 함
df['정산일자'] = pd.to_datetime(df['정산일자'])

# "년-월" 형식의 문자열 컬럼 추가
df['년월'] = df['정산일자'].dt.to_period('M').astype(str)
# 월별 총 매출금액 합계 구하기
월별_매출 = df.groupby('년월')['총 매출금액'].sum().reset_index()

import matplotlib.pyplot as plt

plt.figure(figsize=(12, 6))
plt.plot(월별_매출['년월'], 월별_매출['총 매출금액'], marker='o', color='blue', label='총 매출금액')

plt.title('월별 총 매출금액 추이')
plt.xlabel('년-월')
plt.ylabel('총 매출금액')
plt.xticks(rotation=45)
plt.grid(True)
plt.legend()
plt.tight_layout()
plt.show()




# 월별 총 매출금액 합계 구하기
월별_주문건수 = df.groupby('년월')['총 주문건수'].sum().reset_index()

import matplotlib.pyplot as plt

plt.figure(figsize=(12, 6))
plt.plot(월별_주문건수['년월'], 월별_주문건수['총 주문건수'], marker='o', color='blue', label='총 주문건수')

plt.title('월별 총 매출금액 추이')
plt.xlabel('년-월')
plt.ylabel('총 매출금액')
plt.xticks(rotation=45)
plt.grid(True)
plt.legend()
plt.tight_layout()
plt.show()




# 월별 총 매출금액 합계 구하기
년_주문건수 = df.groupby('년')['총 주문건수'].sum().reset_index()

import matplotlib.pyplot as plt

plt.figure(figsize=(12, 6))
plt.plot(년_주문건수['년'], 년_주문건수['총 주문건수'], marker='o', color='blue', label='총 주문건수')

plt.title('년 총 주문건수 추이')
plt.xlabel('년')
plt.ylabel('총 매출금액')
plt.xticks(rotation=45)
plt.grid(True)
plt.legend()
plt.tight_layout()
plt.show()



날씨 = pd.read_csv("날씨.csv", encoding='euc-kr')
강수량 = pd.read_csv("풍속.csv", encoding='euc-kr')
풍속 = pd.read_csv("강수량.csv", encoding='euc-kr')


df.head()


df.rename(columns = {"정산일자" : "일시"}, inplace=True)


df['일시'] = pd.to_datetime(df['일시'])
날씨['일시'] = pd.to_datetime(날씨['일시'])
강수량['일시'] = pd.to_datetime(날씨['일시'])
풍속['일시'] = pd.to_datetime(날씨['일시'])

df1 = pd.merge(df, 날씨, how='left', on='일시')
df1 = pd.merge(df1,강수량, how='left', on='일시')
df1 = pd.merge(df1,풍속, how='left', on='일시')


df1.isnull().sum()


df1["평균기온(℃)"] = df1["평균기온(℃)"].interpolate(method='linear')
df1["최고기온(℃)"] = df1["최고기온(℃)"].interpolate(method='linear')
df1["최저기온(℃)"] = df1["최저기온(℃)"].interpolate(method='linear')
df1["일교차(℃)"] = df1["일교차(℃)"].interpolate(method='linear')
df1["평균풍속(m/s)"] = df1["평균풍속(m/s)"].interpolate(method='linear')
df1["최대풍속(m/s)"] = df1["최대풍속(m/s)"].interpolate(method='linear')
df1["강수량(mm)"] = df1["강수량(mm)"].fillna(0)
df1["1시간최다강수량(mm)"] = df1["1시간최다강수량(mm)"].fillna(0)


df1.head()


correlation_matrix = df1.select_dtypes(include=['number']).corr()
correlation_matrix



import seaborn as sns
import matplotlib.pyplot as plt

# 상관계수 행렬 계산
correlation_matrix = df1.select_dtypes(include=['number']).corr()

# 히트맵 시각화
plt.figure(figsize=(10, 8))
sns.heatmap(correlation_matrix, annot=True, cmap='coolwarm', fmt=".2f", linewidths=0.5)
plt.title('상관행렬(Heatmap)')
plt.show()



from sklearn.linear_model import LinearRegression
from sklearn.model_selection import train_test_split
from sklearn.metrics import mean_squared_error, r2_score

# 데이터 준비 (날씨 변수들 모두 사용)
X = df1[['평균기온(℃)', '최고기온(℃)', '최저기온(℃)', '일교차(℃)', 
         '평균풍속(m/s)', '최대풍속(m/s)', '강수량(mm)', '1시간최다강수량(mm)']]
y = df1['총 매출금액']  # 매출

# 학습 데이터와 테스트 데이터로 분할
X_train, X_test, y_train, y_test = train_test_split(X, y, test_size=0.2, random_state=42)

# 선형 회귀 모델 학습
model = LinearRegression()
model.fit(X_train, y_train)

# 예측
y_pred = model.predict(X_test)

# 성능 평가
mse = mean_squared_error(y_test, y_pred)
r2 = r2_score(y_test, y_pred)

print("Mean Squared Error:", mse)
print("R2 Score:", r2)

# 회귀 계수 출력
print("회귀 계수:", model.coef_)
print("절편:", model.intercept_)



from sklearn.ensemble import RandomForestRegressor

# 랜덤 포레스트 모델 학습
rf_model = RandomForestRegressor(n_estimators=100, random_state=42)
rf_model.fit(X_train, y_train)

# 예측
y_rf_pred = rf_model.predict(X_test)

# 성능 평가
mse_rf = mean_squared_error(y_test, y_rf_pred)
r2_rf = r2_score(y_test, y_rf_pred)

print("Random Forest - Mean Squared Error:", mse_rf)
print("Random Forest - R2 Score:", r2_rf)



from sklearn.tree import DecisionTreeRegressor

# 결정 트리 모델 학습
dt_model = DecisionTreeRegressor(random_state=42)
dt_model.fit(X_train, y_train)

# 예측
y_dt_pred = dt_model.predict(X_test)

# 성능 평가
mse_dt = mean_squared_error(y_test, y_dt_pred)
r2_dt = r2_score(y_test, y_dt_pred)

print("Decision Tree - Mean Squared Error:", mse_dt)
print("Decision Tree - R2 Score:", r2_dt)



import matplotlib.pyplot as plt

# 성능 비교 (R2 Score)
models = ['Linear Regression', 'Random Forest', 'Decision Tree']
r2_scores = [r2, r2_rf, r2_dt]

plt.figure(figsize=(8, 5))
plt.bar(models, r2_scores, color=['blue', 'green', 'red'])
plt.title("모델 성능 비교 (R2 Score)")
plt.ylabel("R2 Score")
plt.show()



pip install statsmodels


from statsmodels.stats.outliers_influence import variance_inflation_factor
from statsmodels.tools.tools import add_constant

# VIF 계산
X_const = add_constant(X)  # 상수항 추가
vif_data = pd.DataFrame()
vif_data["Variable"] = X_const.columns
vif_data["VIF"] = [variance_inflation_factor(X_const.values, i) for i in range(X_const.shape[1])]

print(vif_data)



from sklearn.linear_model import LinearRegression
from sklearn.model_selection import train_test_split
from sklearn.metrics import mean_squared_error, r2_score

# 데이터 준비 (날씨 변수들 모두 사용)
X = df1[['평균기온(℃)', 
         '평균풍속(m/s)', '강수량(mm)']]
y = df1['총 매출금액']  # 매출

# 학습 데이터와 테스트 데이터로 분할
X_train, X_test, y_train, y_test = train_test_split(X, y, test_size=0.2, random_state=42)

# 선형 회귀 모델 학습
model = LinearRegression()
model.fit(X_train, y_train)

# 예측
y_pred = model.predict(X_test)

# 성능 평가
mse = mean_squared_error(y_test, y_pred)
r2 = r2_score(y_test, y_pred)

print("Mean Squared Error:", mse)
print("R2 Score:", r2)

# 회귀 계수 출력
print("회귀 계수:", model.coef_)
print("절편:", model.intercept_)




